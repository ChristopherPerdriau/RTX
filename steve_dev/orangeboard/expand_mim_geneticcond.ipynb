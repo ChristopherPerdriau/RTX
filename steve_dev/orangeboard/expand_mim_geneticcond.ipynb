{
 "cells": [
  {
   "cell_type": "code",
   "execution_count": 1,
   "metadata": {
    "collapsed": true
   },
   "outputs": [],
   "source": [
    "from Orangeboard import Orangeboard\n",
    "from QueryOMIM import QueryOMIM\n",
    "from QueryMyGene import QueryMyGene\n",
    "from QueryPC2 import QueryPC2\n",
    "from QueryUniprot import QueryUniprot\n",
    "from QueryReactome import QueryReactome\n",
    "from QueryDisont import QueryDisont\n",
    "from QueryDisGeNet import QueryDisGeNet\n",
    "\n",
    "query_omim_obj = QueryOMIM()\n",
    "query_mygene_obj = QueryMyGene()"
   ]
  },
  {
   "cell_type": "code",
   "execution_count": 2,
   "metadata": {
    "collapsed": false
   },
   "outputs": [
    {
     "name": "stdout",
     "output_type": "stream",
     "text": [
      "{'P15692'}\n",
      "{'VEGF'}\n"
     ]
    }
   ],
   "source": [
    "res_dict = query_omim_obj.disease_mim_to_gene_symbols_and_uniprot_ids(603933)\n",
    "uniprot_ids = res_dict[\"uniprot_ids\"]\n",
    "gene_symbols = res_dict[\"gene_symbols\"]\n",
    "\n",
    "print(uniprot_ids)\n",
    "print(gene_symbols)"
   ]
  },
  {
   "cell_type": "code",
   "execution_count": 3,
   "metadata": {
    "collapsed": false
   },
   "outputs": [
    {
     "name": "stdout",
     "output_type": "stream",
     "text": [
      "set()\n"
     ]
    }
   ],
   "source": [
    "uniprot_ids_to_gene_symbols_dict = dict()\n",
    "for gene_symbol in gene_symbols:\n",
    "    uniprot_id = query_mygene_obj.convert_gene_symbol_to_uniprot_id(gene_symbol)\n",
    "    print(uniprot_id)\n",
    "#     if uniprot_id is not None:\n",
    "#         assert len(uniprot_id)==1\n",
    "#         uniprot_ids_to_gene_symbols_dict[next(iter(uniprot_id))]=gene_symbol"
   ]
  }
 ],
 "metadata": {
  "anaconda-cloud": {},
  "kernelspec": {
   "display_name": "Python [conda root]",
   "language": "python",
   "name": "conda-root-py"
  },
  "language_info": {
   "codemirror_mode": {
    "name": "ipython",
    "version": 3
   },
   "file_extension": ".py",
   "mimetype": "text/x-python",
   "name": "python",
   "nbconvert_exporter": "python",
   "pygments_lexer": "ipython3",
   "version": "3.5.2"
  }
 },
 "nbformat": 4,
 "nbformat_minor": 1
}
